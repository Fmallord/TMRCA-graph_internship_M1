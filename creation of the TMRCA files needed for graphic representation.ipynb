{
 "cells": [
  {
   "cell_type": "markdown",
   "metadata": {},
   "source": [
    "# Creation of the files used as inputs in TMRCA graphs"
   ]
  },
  {
   "cell_type": "markdown",
   "metadata": {},
   "source": [
    "## 1 - Import and merge the files containing true and inffered TMRCA for the 1000 variants picked from the given dataset (here, N3)"
   ]
  },
  {
   "cell_type": "code",
   "execution_count": 3,
   "metadata": {},
   "outputs": [],
   "source": [
    "with open('/media/francoismallord/USB DISK/chr1_for_real_age/n3/n3_true_ccf_1.txt', 'r', newline='') as f1:    #I import the data simulated by rvage for 1 segregating site\n",
    "    est_age11 = list(f1)     #importation in a list format\n",
    "with open('/media/francoismallord/USB DISK/chr1_for_real_age/n3/n3_true_ccf_2.txt', 'r', newline='') as f1:    #I import the data simulated by rvage for 1 segregating site\n",
    "    est_age12 = list(f1)     #importation in a list format\n",
    "with open('/media/francoismallord/USB DISK/chr1_for_real_age/n3/n3_true_ccf_3.txt', 'r', newline='') as f1:    #I import the data simulated by rvage for 1 segregating site\n",
    "    est_age13 = list(f1)     #importation in a list format\n",
    "with open('/media/francoismallord/USB DISK/chr1_for_real_age/n3/n3_true_ccf_4.txt', 'r', newline='') as f1:    #I import the data simulated by rvage for 1 segregating site\n",
    "    est_age14 = list(f1)     #importation in a list format\n",
    "with open('/media/francoismallord/USB DISK/chr1_for_real_age/n3/n3_true_ccf_5.txt', 'r', newline='') as f1:    #I import the data simulated by rvage for 1 segregating site\n",
    "    est_age15 = list(f1)     #importation in a list format\n",
    "with open('/media/francoismallord/USB DISK/chr1_for_real_age/n3/n3_true_ccf_6.txt', 'r', newline='') as f1:    #I import the data simulated by rvage for 1 segregating site\n",
    "    est_age16 = list(f1)     #importation in a list format\n",
    "with open('/media/francoismallord/USB DISK/chr1_for_real_age/n3/n3_true_ccf_7.txt', 'r', newline='') as f1:    #I import the data simulated by rvage for 1 segregating site\n",
    "    est_age17 = list(f1)     #importation in a list format\n",
    "with open('/media/francoismallord/USB DISK/chr1_for_real_age/n3/n3_true_ccf_8.txt', 'r', newline='') as f1:    #I import the data simulated by rvage for 1 segregating site\n",
    "    est_age18 = list(f1)     #importation in a list format\n",
    "with open('/media/francoismallord/USB DISK/chr1_for_real_age/n3/n3_true_ccf_9.txt', 'r', newline='') as f1:    #I import the data simulated by rvage for 1 segregating site\n",
    "    est_age19 = list(f1)     #importation in a list format\n",
    "with open('/media/francoismallord/USB DISK/chr1_for_real_age/n3/n3_true_ccf_10.txt', 'r', newline='') as f1:    #I import the data simulated by rvage for 1 segregating site\n",
    "    est_age20 = list(f1)     #importation in a list format\n",
    "\n",
    "est_age = est_age11+est_age12+est_age13+est_age14+est_age15+est_age16+est_age17+est_age18+est_age19+est_age20"
   ]
  },
  {
   "cell_type": "code",
   "execution_count": 6,
   "metadata": {},
   "outputs": [],
   "source": [
    "list1 = est_age\n",
    "line = ''.join(list1) #transform the multiple lines of list1 in one big list\n",
    "import re\n",
    "str1 = re.sub('[\\n]', ' ', line) # remove all the \"\\n\" in the list => only problem = merge btwn last element of \"virtual\" line 0 (the header) and first element of virtual line 1 (marker ID).\n",
    "str = str1.replace('TMRCA', 'TMRCA')\n",
    "est_age1=str.split(\" \") #split all the elements of str using blanks as separators\n",
    "est_age1.remove('')  #the last character of est_age1 is an empty '' without that\n",
    "est_age2=[est_age1[i:i+15] for i in range(0,len(est_age1),15)]     #the list I will really use, split by line = analysis of a given pair TMRCA."
   ]
  },
  {
   "cell_type": "code",
   "execution_count": 7,
   "metadata": {},
   "outputs": [],
   "source": [
    "est_age2f=[]\n",
    "for i in est_age2:\n",
    "    if i[0]!='MarkerID':\n",
    "        est_age2f+=[i]"
   ]
  },
  {
   "cell_type": "markdown",
   "metadata": {},
   "source": [
    "## 2 - Group the TMRCA files by clock model used, and by type of pair"
   ]
  },
  {
   "cell_type": "code",
   "execution_count": 10,
   "metadata": {},
   "outputs": [],
   "source": [
    "est_age2_1=[i for i in est_age2 if i[1]=='M']   #all pairs considered, TMRCA distribution estimated with the mutation clock model 'M'\n",
    "est_age2_2=[i for i in est_age2 if i[1]=='R']   #all pairs considered, recombination clock 'R'\n",
    "est_age2_3=[i for i in est_age2 if i[1]=='C']   #all pairs considered, combined clock 'C'\n",
    "est_age2_4=[i for i in est_age2 if i[1]=='M' and  i[7]=='0']    #discordant pairs\n",
    "est_age2_5=[i for i in est_age2 if i[1]=='R' and  i[7]=='0']\n",
    "est_age2_6=[i for i in est_age2 if i[1]=='C' and  i[7]=='0']\n",
    "est_age2_7=[i for i in est_age2 if i[1]=='M' and  i[7]=='1']     #concordant pairs\n",
    "est_age2_8=[i for i in est_age2 if i[1]=='R' and  i[7]=='1']\n",
    "est_age2_9=[i for i in est_age2 if i[1]=='C' and  i[7]=='1']"
   ]
  },
  {
   "cell_type": "markdown",
   "metadata": {},
   "source": [
    "## 3 - Store the TMRCA by clock model and type of pair"
   ]
  },
  {
   "cell_type": "markdown",
   "metadata": {},
   "source": [
    "Here is just an example of saved files for the case of concordant pairs true and inferred TMRCA of which where determined by the combined clock. <br> The 2 files gather TMRCA after the combined clock model for all the concordant pairs for the 1000 variants selected for the analysis on N3 dataset."
   ]
  },
  {
   "cell_type": "code",
   "execution_count": 20,
   "metadata": {},
   "outputs": [],
   "source": [
    "Ne=7300\n",
    "myfile1 = open(\"/media/francoismallord/USB DISK/chr1_for_real_age/n3/n3_estimate_1000_comb_conc_pat.txt\", \"w\")\n",
    "myfile2 = open(\"/media/francoismallord/USB DISK/chr1_for_real_age/n3/n3_real_1000_comb_conc_pat.txt\", \"w\")\n",
    "real=0\n",
    "estimate=0\n",
    "for i in est_age2_9:\n",
    "    estimate=(float(i[11])/float(i[12]))*2*Ne       #the estimated age is found by dividing shape by rate of the TMRCA distribution (=mean of TMRCA, close to the median normally picked)\n",
    "    myfile1.write(\"%s\\n\" % estimate)\n",
    "    real=float(i[14])\n",
    "    myfile2.write(\"%s\\n\" % real)                     #the real age is extracted by patrick algorithm given in github link in the report\n",
    "myfile1.close()\n",
    "myfile2.close()"
   ]
  }
 ],
 "metadata": {
  "kernelspec": {
   "display_name": "Python 3",
   "language": "python",
   "name": "python3"
  },
  "language_info": {
   "codemirror_mode": {
    "name": "ipython",
    "version": 3
   },
   "file_extension": ".py",
   "mimetype": "text/x-python",
   "name": "python",
   "nbconvert_exporter": "python",
   "pygments_lexer": "ipython3",
   "version": "3.6.4"
  }
 },
 "nbformat": 4,
 "nbformat_minor": 2
}
